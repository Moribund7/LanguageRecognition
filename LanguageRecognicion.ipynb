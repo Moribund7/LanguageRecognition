{
 "metadata": {
  "kernelspec": {
   "display_name": "Python [default]",
   "language": "python",
   "name": "python3"
  },
  "language_info": {
   "codemirror_mode": {
    "name": "ipython",
    "version": 3
   },
   "file_extension": ".py",
   "mimetype": "text/x-python",
   "name": "python",
   "nbconvert_exporter": "python",
   "pygments_lexer": "ipython3",
   "version": "3.7.0"
  },
  "name": ""
 },
 "nbformat": 3,
 "nbformat_minor": 0,
 "worksheets": [
  {
   "cells": [
    {
     "cell_type": "code",
     "collapsed": false,
     "input": [
      "import pandas as pd\n",
      "import numpy as np\n",
      "\n",
      "file_path = 'data.csv'\n",
      "df = pd.read_csv(file_path,encoding='utf-8')"
     ],
     "language": "python",
     "metadata": {
      "ExecuteTime": {
       "end_time": "2018-12-16T21:06:34.130008Z",
       "start_time": "2018-12-16T21:06:33.902415Z"
      }
     },
     "outputs": [],
     "prompt_number": 1
    },
    {
     "cell_type": "code",
     "collapsed": false,
     "input": [
      "df.head()"
     ],
     "language": "python",
     "metadata": {
      "ExecuteTime": {
       "end_time": "2018-12-16T21:06:34.166886Z",
       "start_time": "2018-12-16T21:06:34.137112Z"
      }
     },
     "outputs": [
      {
       "html": [
        "<div>\n",
        "<style scoped>\n",
        "    .dataframe tbody tr th:only-of-type {\n",
        "        vertical-align: middle;\n",
        "    }\n",
        "\n",
        "    .dataframe tbody tr th {\n",
        "        vertical-align: top;\n",
        "    }\n",
        "\n",
        "    .dataframe thead th {\n",
        "        text-align: right;\n",
        "    }\n",
        "</style>\n",
        "<table border=\"1\" class=\"dataframe\">\n",
        "  <thead>\n",
        "    <tr style=\"text-align: right;\">\n",
        "      <th></th>\n",
        "      <th>language</th>\n",
        "      <th>proj_id</th>\n",
        "      <th>file_id</th>\n",
        "      <th>file_body</th>\n",
        "    </tr>\n",
        "  </thead>\n",
        "  <tbody>\n",
        "    <tr>\n",
        "      <th>0</th>\n",
        "      <td>JavaScript</td>\n",
        "      <td>10001</td>\n",
        "      <td>100001</td>\n",
        "      <td>// Functions as values of a variable\\nvar cube...</td>\n",
        "    </tr>\n",
        "    <tr>\n",
        "      <th>1</th>\n",
        "      <td>JavaScript</td>\n",
        "      <td>10001</td>\n",
        "      <td>100002</td>\n",
        "      <td>// Functions as values of a variable\\nvar cube...</td>\n",
        "    </tr>\n",
        "    <tr>\n",
        "      <th>2</th>\n",
        "      <td>JavaScript</td>\n",
        "      <td>10002</td>\n",
        "      <td>100003</td>\n",
        "      <td>function median(ary) {\\n    if (ary.length == ...</td>\n",
        "    </tr>\n",
        "    <tr>\n",
        "      <th>3</th>\n",
        "      <td>JavaScript</td>\n",
        "      <td>10002</td>\n",
        "      <td>100004</td>\n",
        "      <td>[\\n  null,\\n  4,\\n  3.5,\\n  2.1\\n]\\n</td>\n",
        "    </tr>\n",
        "    <tr>\n",
        "      <th>4</th>\n",
        "      <td>JavaScript</td>\n",
        "      <td>10002</td>\n",
        "      <td>100005</td>\n",
        "      <td>(() =&gt; {\\n    'use strict';\\n\\n    // median :...</td>\n",
        "    </tr>\n",
        "  </tbody>\n",
        "</table>\n",
        "</div>"
       ],
       "output_type": "pyout",
       "prompt_number": 2,
       "text": [
        "     language  proj_id  file_id  \\\n",
        "0  JavaScript    10001   100001   \n",
        "1  JavaScript    10001   100002   \n",
        "2  JavaScript    10002   100003   \n",
        "3  JavaScript    10002   100004   \n",
        "4  JavaScript    10002   100005   \n",
        "\n",
        "                                           file_body  \n",
        "0  // Functions as values of a variable\\nvar cube...  \n",
        "1  // Functions as values of a variable\\nvar cube...  \n",
        "2  function median(ary) {\\n    if (ary.length == ...  \n",
        "3               [\\n  null,\\n  4,\\n  3.5,\\n  2.1\\n]\\n  \n",
        "4  (() => {\\n    'use strict';\\n\\n    // median :...  "
       ]
      }
     ],
     "prompt_number": 2
    },
    {
     "cell_type": "code",
     "collapsed": false,
     "input": [
      "languages=set(df['language'])\n",
      "keys=dict()\n",
      "i=0\n",
      "for lang in languages:\n",
      "    keys.update({lang:i})\n",
      "    i+=1"
     ],
     "language": "python",
     "metadata": {
      "ExecuteTime": {
       "end_time": "2018-12-16T21:06:34.326613Z",
       "start_time": "2018-12-16T21:06:34.313009Z"
      }
     },
     "outputs": [],
     "prompt_number": 3
    },
    {
     "cell_type": "code",
     "collapsed": false,
     "input": [
      "keys"
     ],
     "language": "python",
     "metadata": {
      "ExecuteTime": {
       "end_time": "2018-12-16T21:06:34.908576Z",
       "start_time": "2018-12-16T21:06:34.899382Z"
      }
     },
     "outputs": [
      {
       "output_type": "pyout",
       "prompt_number": 4,
       "text": [
        "{'Kotlin': 0,\n",
        " 'Fortran': 1,\n",
        " 'Rust': 2,\n",
        " 'Mathematica': 3,\n",
        " 'MATLAB': 4,\n",
        " 'Java': 5,\n",
        " 'Scala': 6,\n",
        " 'Go': 7,\n",
        " 'Ruby': 8,\n",
        " 'R': 9,\n",
        " 'Haskell': 10,\n",
        " 'Perl': 11,\n",
        " 'Python': 12,\n",
        " 'JavaScript': 13,\n",
        " 'Swift': 14,\n",
        " 'C++': 15,\n",
        " 'C': 16,\n",
        " 'PHP': 17,\n",
        " 'Julia': 18}"
       ]
      }
     ],
     "prompt_number": 4
    },
    {
     "cell_type": "code",
     "collapsed": false,
     "input": [
      "out = df['language']\n",
      "text = df['file_body']\n",
      "\n",
      "label = []\n",
      "text2=[]\n",
      "for val,t in zip(out,text):\n",
      "    if val!='Python':\n",
      "        label.append(keys[val])\n",
      "        text2.append(t)\n",
      "\n",
      "label = np.array(label)\n",
      "text = np.array(text2)\n",
      "\n",
      "label"
     ],
     "language": "python",
     "metadata": {
      "ExecuteTime": {
       "end_time": "2018-12-16T21:06:36.887135Z",
       "start_time": "2018-12-16T21:06:35.415511Z"
      }
     },
     "outputs": [
      {
       "output_type": "pyout",
       "prompt_number": 5,
       "text": [
        "array([13, 13, 13, ..., 11, 11, 11])"
       ]
      }
     ],
     "prompt_number": 5
    },
    {
     "cell_type": "code",
     "collapsed": false,
     "input": [
      "label.shape"
     ],
     "language": "python",
     "metadata": {
      "ExecuteTime": {
       "end_time": "2018-12-16T21:06:36.919349Z",
       "start_time": "2018-12-16T21:06:36.897594Z"
      }
     },
     "outputs": [
      {
       "output_type": "pyout",
       "prompt_number": 6,
       "text": [
        "(14820,)"
       ]
      }
     ],
     "prompt_number": 6
    },
    {
     "cell_type": "code",
     "collapsed": false,
     "input": [
      "text.shape"
     ],
     "language": "python",
     "metadata": {
      "ExecuteTime": {
       "end_time": "2018-12-16T18:40:43.126215Z",
       "start_time": "2018-12-16T18:40:43.083794Z"
      }
     },
     "outputs": [
      {
       "output_type": "pyout",
       "prompt_number": 7,
       "text": [
        "(14820,)"
       ]
      }
     ],
     "prompt_number": 7
    },
    {
     "cell_type": "code",
     "collapsed": false,
     "input": [
      "# from sklearn.utils import shuffle\n",
      "from sklearn.model_selection import train_test_split\n",
      "\n",
      "x_train = []\n",
      "x_test = []\n",
      "y_train = []\n",
      "y_test = []\n",
      "\n",
      "# text, label = shuffle(text,label,random_state=42)\n",
      "x_train, x_test, y_train, y_test = train_test_split(text,label,train_size=0.9,shuffle=True,random_state=42)\n",
      "\n",
      "x_train = np.array(x_train)\n",
      "x_test = np.array(x_test)\n",
      "y_train = np.array(y_train)\n",
      "y_test = np.array(y_test)"
     ],
     "language": "python",
     "metadata": {
      "ExecuteTime": {
       "end_time": "2018-12-16T18:40:44.185718Z",
       "start_time": "2018-12-16T18:40:43.178637Z"
      }
     },
     "outputs": [
      {
       "output_type": "stream",
       "stream": "stderr",
       "text": [
        "/home/filip/anaconda3/lib/python3.7/site-packages/sklearn/model_selection/_split.py:2069: FutureWarning: From version 0.21, test_size will always complement train_size unless both are specified.\n",
        "  FutureWarning)\n"
       ]
      }
     ],
     "prompt_number": 8
    },
    {
     "cell_type": "code",
     "collapsed": false,
     "input": [],
     "language": "python",
     "metadata": {
      "ExecuteTime": {
       "end_time": "2018-12-16T18:25:15.908718Z",
       "start_time": "2018-12-16T18:25:15.897324Z"
      }
     },
     "outputs": [],
     "prompt_number": 9
    },
    {
     "cell_type": "code",
     "collapsed": false,
     "input": [
      "from sklearn.feature_extraction.text import CountVectorizer, TfidfTransformer\n",
      "\n",
      "count_vect = CountVectorizer(decode_error='ignore')\n",
      "x_train_count = count_vect.fit_transform(x_train)\n",
      "tfidf_trans = TfidfTransformer()\n",
      "x_train_tfidf = tfidf_trans.fit_transform(x_train_count)\n",
      "\n",
      "x_test_count = count_vect.transform(x_test)\n",
      "x_test_tfidf = tfidf_trans.transform(x_test_count)"
     ],
     "language": "python",
     "metadata": {
      "ExecuteTime": {
       "end_time": "2018-12-16T18:40:51.382632Z",
       "start_time": "2018-12-16T18:40:48.600940Z"
      }
     },
     "outputs": [],
     "prompt_number": 9
    },
    {
     "cell_type": "code",
     "collapsed": false,
     "input": [
      "from xgboost import XGBClassifier\n",
      "from sklearn.metrics import accuracy_score\n",
      "\n",
      "clf = XGBClassifier(n_estimators=200)\n",
      "clf.fit(x_train_tfidf,y_train)\n",
      "y_pred = clf.predict(x_test_tfidf)\n",
      "print(accuracy_score(y_test,y_pred))"
     ],
     "language": "python",
     "metadata": {
      "ExecuteTime": {
       "end_time": "2018-12-16T18:45:09.151025Z",
       "start_time": "2018-12-16T18:41:03.561294Z"
      }
     },
     "outputs": [
      {
       "output_type": "stream",
       "stream": "stdout",
       "text": [
        "0.8657219973009447\n"
       ]
      }
     ],
     "prompt_number": 10
    },
    {
     "cell_type": "code",
     "collapsed": false,
     "input": [],
     "language": "python",
     "metadata": {},
     "outputs": [],
     "prompt_number": 11
    },
    {
     "cell_type": "code",
     "collapsed": false,
     "input": [],
     "language": "python",
     "metadata": {},
     "outputs": [],
     "prompt_number": 11
    }
   ],
   "metadata": {}
  }
 ]
}
