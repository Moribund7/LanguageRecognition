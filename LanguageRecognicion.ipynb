{
 "cells": [
  {
   "cell_type": "code",
   "execution_count": 1,
   "metadata": {
    "ExecuteTime": {
     "end_time": "2018-12-18T18:31:33.388775Z",
     "start_time": "2018-12-18T18:31:32.720458Z"
    }
   },
   "outputs": [],
   "source": [
    "import pandas as pd\n",
    "import numpy as np\n",
    "\n",
    "file_path = 'data.csv'\n",
    "df = pd.read_csv(file_path,encoding='utf-8')"
   ]
  },
  {
   "cell_type": "code",
   "execution_count": 2,
   "metadata": {
    "ExecuteTime": {
     "end_time": "2018-12-18T18:31:34.090862Z",
     "start_time": "2018-12-18T18:31:34.056039Z"
    }
   },
   "outputs": [
    {
     "data": {
      "text/html": [
       "<div>\n",
       "<style scoped>\n",
       "    .dataframe tbody tr th:only-of-type {\n",
       "        vertical-align: middle;\n",
       "    }\n",
       "\n",
       "    .dataframe tbody tr th {\n",
       "        vertical-align: top;\n",
       "    }\n",
       "\n",
       "    .dataframe thead th {\n",
       "        text-align: right;\n",
       "    }\n",
       "</style>\n",
       "<table border=\"1\" class=\"dataframe\">\n",
       "  <thead>\n",
       "    <tr style=\"text-align: right;\">\n",
       "      <th></th>\n",
       "      <th>language</th>\n",
       "      <th>proj_id</th>\n",
       "      <th>file_id</th>\n",
       "      <th>file_body</th>\n",
       "    </tr>\n",
       "  </thead>\n",
       "  <tbody>\n",
       "    <tr>\n",
       "      <th>0</th>\n",
       "      <td>JavaScript</td>\n",
       "      <td>10001</td>\n",
       "      <td>100001</td>\n",
       "      <td>// Functions as values of a variable\\nvar cube...</td>\n",
       "    </tr>\n",
       "    <tr>\n",
       "      <th>1</th>\n",
       "      <td>JavaScript</td>\n",
       "      <td>10001</td>\n",
       "      <td>100002</td>\n",
       "      <td>// Functions as values of a variable\\nvar cube...</td>\n",
       "    </tr>\n",
       "    <tr>\n",
       "      <th>2</th>\n",
       "      <td>JavaScript</td>\n",
       "      <td>10002</td>\n",
       "      <td>100003</td>\n",
       "      <td>function median(ary) {\\n    if (ary.length == ...</td>\n",
       "    </tr>\n",
       "    <tr>\n",
       "      <th>3</th>\n",
       "      <td>JavaScript</td>\n",
       "      <td>10002</td>\n",
       "      <td>100004</td>\n",
       "      <td>[\\n  null,\\n  4,\\n  3.5,\\n  2.1\\n]\\n</td>\n",
       "    </tr>\n",
       "    <tr>\n",
       "      <th>4</th>\n",
       "      <td>JavaScript</td>\n",
       "      <td>10002</td>\n",
       "      <td>100005</td>\n",
       "      <td>(() =&gt; {\\n    'use strict';\\n\\n    // median :...</td>\n",
       "    </tr>\n",
       "  </tbody>\n",
       "</table>\n",
       "</div>"
      ],
      "text/plain": [
       "     language  proj_id  file_id  \\\n",
       "0  JavaScript    10001   100001   \n",
       "1  JavaScript    10001   100002   \n",
       "2  JavaScript    10002   100003   \n",
       "3  JavaScript    10002   100004   \n",
       "4  JavaScript    10002   100005   \n",
       "\n",
       "                                           file_body  \n",
       "0  // Functions as values of a variable\\nvar cube...  \n",
       "1  // Functions as values of a variable\\nvar cube...  \n",
       "2  function median(ary) {\\n    if (ary.length == ...  \n",
       "3               [\\n  null,\\n  4,\\n  3.5,\\n  2.1\\n]\\n  \n",
       "4  (() => {\\n    'use strict';\\n\\n    // median :...  "
      ]
     },
     "execution_count": 2,
     "metadata": {},
     "output_type": "execute_result"
    }
   ],
   "source": [
    "df.head()"
   ]
  },
  {
   "cell_type": "code",
   "execution_count": 3,
   "metadata": {
    "ExecuteTime": {
     "end_time": "2018-12-18T18:31:37.802792Z",
     "start_time": "2018-12-18T18:31:37.796368Z"
    }
   },
   "outputs": [],
   "source": [
    "languages=set(df['language'])\n",
    "keys=dict()\n",
    "i=0\n",
    "for lang in languages:\n",
    "    keys.update({lang:i})\n",
    "    i+=1"
   ]
  },
  {
   "cell_type": "code",
   "execution_count": 4,
   "metadata": {
    "ExecuteTime": {
     "end_time": "2018-12-18T18:31:38.908377Z",
     "start_time": "2018-12-18T18:31:38.902212Z"
    }
   },
   "outputs": [
    {
     "data": {
      "text/plain": [
       "{'Fortran': 0,\n",
       " 'Julia': 1,\n",
       " 'Perl': 2,\n",
       " 'Rust': 3,\n",
       " 'MATLAB': 4,\n",
       " 'Haskell': 5,\n",
       " 'C': 6,\n",
       " 'Kotlin': 7,\n",
       " 'Ruby': 8,\n",
       " 'Scala': 9,\n",
       " 'Python': 10,\n",
       " 'PHP': 11,\n",
       " 'Mathematica': 12,\n",
       " 'JavaScript': 13,\n",
       " 'C++': 14,\n",
       " 'Swift': 15,\n",
       " 'R': 16,\n",
       " 'Java': 17,\n",
       " 'Go': 18}"
      ]
     },
     "execution_count": 4,
     "metadata": {},
     "output_type": "execute_result"
    }
   ],
   "source": [
    "keys"
   ]
  },
  {
   "cell_type": "code",
   "execution_count": 9,
   "metadata": {
    "ExecuteTime": {
     "end_time": "2018-12-18T18:32:23.855761Z",
     "start_time": "2018-12-18T18:32:23.098309Z"
    }
   },
   "outputs": [
    {
     "data": {
      "text/plain": [
       "array([13, 13, 13, ...,  2,  2,  2])"
      ]
     },
     "execution_count": 9,
     "metadata": {},
     "output_type": "execute_result"
    }
   ],
   "source": [
    "out = df['language']\n",
    "text = df['file_body']\n",
    "\n",
    "label = []\n",
    "text2=[]\n",
    "for val,t in zip(out,text):\n",
    "#     if val!='Python': #problems with numpy.nan\n",
    "        label.append(keys[val])\n",
    "        text2.append(t)\n",
    "\n",
    "label = np.array(label)\n",
    "text = np.array(text2)\n",
    "\n",
    "label"
   ]
  },
  {
   "cell_type": "code",
   "execution_count": 10,
   "metadata": {
    "ExecuteTime": {
     "end_time": "2018-12-18T18:32:23.867275Z",
     "start_time": "2018-12-18T18:32:23.858930Z"
    }
   },
   "outputs": [
    {
     "data": {
      "text/plain": [
       "(16272,)"
      ]
     },
     "execution_count": 10,
     "metadata": {},
     "output_type": "execute_result"
    }
   ],
   "source": [
    "label.shape"
   ]
  },
  {
   "cell_type": "code",
   "execution_count": 11,
   "metadata": {
    "ExecuteTime": {
     "end_time": "2018-12-18T18:32:23.884473Z",
     "start_time": "2018-12-18T18:32:23.870204Z"
    }
   },
   "outputs": [
    {
     "data": {
      "text/plain": [
       "(16272,)"
      ]
     },
     "execution_count": 11,
     "metadata": {},
     "output_type": "execute_result"
    }
   ],
   "source": [
    "text.shape"
   ]
  },
  {
   "cell_type": "code",
   "execution_count": 12,
   "metadata": {
    "ExecuteTime": {
     "end_time": "2018-12-18T18:32:27.622106Z",
     "start_time": "2018-12-18T18:32:25.853956Z"
    }
   },
   "outputs": [
    {
     "name": "stderr",
     "output_type": "stream",
     "text": [
      "/home/filip/anaconda3/lib/python3.7/site-packages/sklearn/model_selection/_split.py:2026: FutureWarning: From version 0.21, test_size will always complement train_size unless both are specified.\n",
      "  FutureWarning)\n"
     ]
    }
   ],
   "source": [
    "# from sklearn.utils import shuffle\n",
    "from sklearn.model_selection import train_test_split\n",
    "\n",
    "x_train = []\n",
    "x_test = []\n",
    "y_train = []\n",
    "y_test = []\n",
    "\n",
    "# text, label = shuffle(text,label,random_state=42)\n",
    "x_train, x_test, y_train, y_test = train_test_split(text,label,train_size=0.9,shuffle=True,random_state=42)\n",
    "\n",
    "x_train = np.array(x_train)\n",
    "x_test = np.array(x_test)\n",
    "y_train = np.array(y_train)\n",
    "y_test = np.array(y_test)"
   ]
  },
  {
   "cell_type": "code",
   "execution_count": null,
   "metadata": {
    "ExecuteTime": {
     "end_time": "2018-12-16T18:25:15.908718Z",
     "start_time": "2018-12-16T18:25:15.897324Z"
    }
   },
   "outputs": [],
   "source": []
  },
  {
   "cell_type": "code",
   "execution_count": 13,
   "metadata": {
    "ExecuteTime": {
     "end_time": "2018-12-18T18:32:32.358733Z",
     "start_time": "2018-12-18T18:32:29.611665Z"
    }
   },
   "outputs": [],
   "source": [
    "from sklearn.feature_extraction.text import CountVectorizer, TfidfTransformer\n",
    "\n",
    "count_vect = CountVectorizer(decode_error='ignore')\n",
    "x_train_count = count_vect.fit_transform(x_train)\n",
    "tfidf_trans = TfidfTransformer()\n",
    "x_train_tfidf = tfidf_trans.fit_transform(x_train_count)\n",
    "\n",
    "x_test_count = count_vect.transform(x_test)\n",
    "x_test_tfidf = tfidf_trans.transform(x_test_count)"
   ]
  },
  {
   "cell_type": "code",
   "execution_count": 14,
   "metadata": {
    "ExecuteTime": {
     "end_time": "2018-12-18T18:37:55.533086Z",
     "start_time": "2018-12-18T18:32:35.508500Z"
    }
   },
   "outputs": [
    {
     "name": "stdout",
     "output_type": "stream",
     "text": [
      "0.8538083538083538\n"
     ]
    },
    {
     "name": "stderr",
     "output_type": "stream",
     "text": [
      "/home/filip/anaconda3/lib/python3.7/site-packages/sklearn/preprocessing/label.py:151: DeprecationWarning: The truth value of an empty array is ambiguous. Returning False, but in future this will result in an error. Use `array.size > 0` to check that an array is not empty.\n",
      "  if diff:\n"
     ]
    }
   ],
   "source": [
    "from xgboost import XGBClassifier\n",
    "from sklearn.metrics import accuracy_score\n",
    "\n",
    "clf = XGBClassifier(n_estimators=200)\n",
    "clf.fit(x_train_tfidf,y_train)\n",
    "y_pred = clf.predict(x_test_tfidf)\n",
    "print(accuracy_score(y_test,y_pred))"
   ]
  },
  {
   "cell_type": "code",
   "execution_count": 11,
   "metadata": {},
   "outputs": [],
   "source": []
  },
  {
   "cell_type": "code",
   "execution_count": 11,
   "metadata": {},
   "outputs": [],
   "source": []
  }
 ],
 "metadata": {
  "kernelspec": {
   "display_name": "Python [default]",
   "language": "python",
   "name": "python3"
  },
  "language_info": {
   "codemirror_mode": {
    "name": "ipython",
    "version": 3
   },
   "file_extension": ".py",
   "mimetype": "text/x-python",
   "name": "python",
   "nbconvert_exporter": "python",
   "pygments_lexer": "ipython3",
   "version": "3.7.0"
  }
 },
 "nbformat": 4,
 "nbformat_minor": 1
}
